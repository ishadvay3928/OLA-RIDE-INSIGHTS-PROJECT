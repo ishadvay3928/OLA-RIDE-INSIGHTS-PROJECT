{
  "nbformat": 4,
  "nbformat_minor": 0,
  "metadata": {
    "colab": {
      "private_outputs": true,
      "provenance": [],
      "collapsed_sections": [
        "vncDsAP0Gaoa",
        "FJNUwmbgGyua",
        "w6K7xa23Elo4",
        "yQaldy8SH6Dl",
        "PH-0ReGfmX4f",
        "HhfV-JJviCcP",
        "Y3lxredqlCYt",
        "3RnN4peoiCZX",
        "x71ZqKXriCWQ",
        "7hBIi_osiCS2",
        "JlHwYmJAmNHm",
        "35m5QtbWiB9F",
        "PoPl-ycgm1ru",
        "H0kj-8xxnORC",
        "nA9Y7ga8ng1Z",
        "PBTbrJXOngz2",
        "u3PMJOP6ngxN",
        "dauF4eBmngu3",
        "bKJF3rekwFvQ",
        "MSa1f5Uengrz",
        "0wOQAZs5pc--",
        "KSlN3yHqYklG",
        "EwiHc85sqtyK",
        "EM7whBJCYoAo",
        "4Of9eVA-YrdM",
        "bamQiAODYuh1",
        "BZR9WyysphqO",
        "XVAB2WSV_K6d",
        "ebNkfJIXA3BX",
        "OH-pJp9IphqM",
        "hBwiCKPBYjnT",
        "PIIx-8_IphqN",
        "YJ55k-q6phqO",
        "U2RJ9gkRphqQ"
      ],
      "include_colab_link": true
    },
    "kernelspec": {
      "name": "python3",
      "display_name": "Python 3"
    },
    "language_info": {
      "name": "python"
    }
  },
  "cells": [
    {
      "cell_type": "markdown",
      "metadata": {
        "id": "view-in-github",
        "colab_type": "text"
      },
      "source": [
        "<a href=\"https://colab.research.google.com/github/ishadvay3928/Ola-Ride-Insights/blob/main/Ola_Ride_Insights.ipynb\" target=\"_parent\"><img src=\"https://colab.research.google.com/assets/colab-badge.svg\" alt=\"Open In Colab\"/></a>"
      ]
    },
    {
      "cell_type": "markdown",
      "source": [
        "# **Project Name**    - **Ola Ride Insights Analysis**\n",
        "\n"
      ],
      "metadata": {
        "id": "vncDsAP0Gaoa"
      }
    },
    {
      "cell_type": "markdown",
      "source": [
        "# **GitHub Link -**"
      ],
      "metadata": {
        "id": "w6K7xa23Elo4"
      }
    },
    {
      "cell_type": "markdown",
      "source": [
        "https://github.com/ishadvay3928/Ola-Ride-Insights/blob/main/Ola_Ride_Insights.ipynb"
      ],
      "metadata": {
        "id": "h1o69JH3Eqqn"
      }
    },
    {
      "cell_type": "markdown",
      "source": [
        "# ***Let's Begin !***"
      ],
      "metadata": {
        "id": "O_i_v8NEhb9l"
      }
    },
    {
      "cell_type": "markdown",
      "source": [
        "## ***1. Know Your Data***"
      ],
      "metadata": {
        "id": "HhfV-JJviCcP"
      }
    },
    {
      "cell_type": "markdown",
      "source": [
        "### Import Libraries"
      ],
      "metadata": {
        "id": "Y3lxredqlCYt"
      }
    },
    {
      "cell_type": "code",
      "source": [
        "# Import Libraries\n",
        "import numpy as np\n",
        "import pandas as pd\n",
        "import matplotlib.pyplot as plt\n",
        "%matplotlib inline\n",
        "import seaborn as sns"
      ],
      "metadata": {
        "id": "M8Vqi-pPk-HR"
      },
      "execution_count": null,
      "outputs": []
    },
    {
      "cell_type": "markdown",
      "source": [
        "### Dataset Loading"
      ],
      "metadata": {
        "id": "3RnN4peoiCZX"
      }
    },
    {
      "cell_type": "code",
      "execution_count": null,
      "metadata": {
        "id": "ovK2BRJojy8z"
      },
      "outputs": [],
      "source": [
        "# Load the Dataset\n",
        "df = pd.read_csv(\"/content/OLA_DataSet.xlsx - July.csv\")"
      ]
    },
    {
      "cell_type": "markdown",
      "source": [
        "### Dataset First View"
      ],
      "metadata": {
        "id": "x71ZqKXriCWQ"
      }
    },
    {
      "cell_type": "code",
      "source": [
        "# First Look\n",
        "df.head()"
      ],
      "metadata": {
        "id": "LWNFOSvLl09H",
        "collapsed": true
      },
      "execution_count": null,
      "outputs": []
    },
    {
      "cell_type": "markdown",
      "source": [
        "### Dataset Rows & Columns count"
      ],
      "metadata": {
        "id": "7hBIi_osiCS2"
      }
    },
    {
      "cell_type": "code",
      "source": [
        "# Dataset Rows & Columns count\n",
        "df.shape"
      ],
      "metadata": {
        "id": "Kllu7SJgmLij"
      },
      "execution_count": null,
      "outputs": []
    },
    {
      "cell_type": "markdown",
      "source": [
        "### Dataset Information"
      ],
      "metadata": {
        "id": "JlHwYmJAmNHm"
      }
    },
    {
      "cell_type": "code",
      "source": [
        "# Dataset Info\n",
        "df.info()"
      ],
      "metadata": {
        "id": "e9hRXRi6meOf"
      },
      "execution_count": null,
      "outputs": []
    },
    {
      "cell_type": "markdown",
      "source": [
        "#### Duplicate Values"
      ],
      "metadata": {
        "id": "35m5QtbWiB9F"
      }
    },
    {
      "cell_type": "code",
      "source": [
        "# Duplicate Value Count\n",
        "df.duplicated().sum()"
      ],
      "metadata": {
        "id": "1sLdpKYkmox0"
      },
      "execution_count": null,
      "outputs": []
    },
    {
      "cell_type": "markdown",
      "source": [
        "#### Missing Values/Null Values"
      ],
      "metadata": {
        "id": "PoPl-ycgm1ru"
      }
    },
    {
      "cell_type": "code",
      "source": [
        "# Missing Values/Null Values Count of datasets\n",
        "df.isnull().sum()"
      ],
      "metadata": {
        "id": "GgHWkxvamxVg"
      },
      "execution_count": null,
      "outputs": []
    },
    {
      "cell_type": "markdown",
      "source": [
        "### What did you know about your dataset?"
      ],
      "metadata": {
        "id": "H0kj-8xxnORC"
      }
    },
    {
      "cell_type": "markdown",
      "source": [
        "- There are 103024 rows and 20 columns in the dataset.\n",
        "- There are missing Values in columns V_TAT, C_TAT, Canceled_Rides_by_Customer, Canceled_Rides_by_Driver, Incomplete_Rides, Incomplete_Rides_Reason, Payment_Method, Driver_Ratings and Customer_Rating."
      ],
      "metadata": {
        "id": "gfoNAAC-nUe_"
      }
    },
    {
      "cell_type": "markdown",
      "source": [
        "## ***2. Understanding Your Variables***"
      ],
      "metadata": {
        "id": "nA9Y7ga8ng1Z"
      }
    },
    {
      "cell_type": "code",
      "source": [
        "# Dataset Columns\n",
        "df.columns"
      ],
      "metadata": {
        "id": "j7xfkqrt5Ag5"
      },
      "execution_count": null,
      "outputs": []
    },
    {
      "cell_type": "code",
      "source": [
        "#Dataset Describe\n",
        "df.describe(include='all')"
      ],
      "metadata": {
        "id": "P8ys3L1qT80u"
      },
      "execution_count": null,
      "outputs": []
    },
    {
      "cell_type": "markdown",
      "source": [
        "### Variables Description"
      ],
      "metadata": {
        "id": "PBTbrJXOngz2"
      }
    },
    {
      "cell_type": "markdown",
      "source": [
        "#### Variable Description\n",
        "\n",
        "| Variable Name                  | Description                                            |\n",
        "| :----------------------------- | :----------------------------------------------------- |\n",
        "| **Date** | The date on which the ride was booked.                 |\n",
        "| **Time** | The time when the ride was booked.                     |\n",
        "| **Booking_ID** | A unique identifier for each ride booking.             |\n",
        "| **Booking_Status** | The final status of the booking (e.g., success, canceled).|\n",
        "| **Customer_ID** | A unique identifier for the customer.                  |\n",
        "| **Vehicle_Type** | The type of vehicle used for the ride (e.g., Bike, Prime Sedan, eBike).|\n",
        "| **Pickup_Location** | The location where the customer was picked up.         |\n",
        "| **Drop_Location** | The location where the customer was dropped off.       |\n",
        "| **V_TAT** | Vehicle Turn Around Time. The time taken for a vehicle to complete a trip. |\n",
        "| **C_TAT** | Customer Turn Around Time. The time taken for the customer's journey. |\n",
        "| **Canceled_Rides_by_Customer** | Indicates if a ride was canceled by the customer.      |\n",
        "| **Canceled_Rides_by_Driver** | Indicates if a ride was canceled by the driver.        |\n",
        "| **Incomplete_Rides** | Indicates if the ride was incomplete.                  |\n",
        "| **Incomplete_Rides_Reason** | The reason for the incomplete ride.                    |\n",
        "| **Booking_Value** | The total monetary value of the ride.                  |\n",
        "| **Payment_Method** | The method used for payment (e.g., UPI, Cash).         |\n",
        "| **Ride_Distance** | The total distance of the ride in kilometers.          |\n",
        "| **Driver_Ratings** | The rating given to the driver for the ride.           |\n",
        "| **Customer_Rating** | The rating given by the customer for the ride.         |\n",
        "| **Vehicle Images** | A link or reference to an image of the vehicle.        |"
      ],
      "metadata": {
        "id": "paP-fCHUiQST"
      }
    },
    {
      "cell_type": "markdown",
      "source": [
        "### Check Unique Values for each variable."
      ],
      "metadata": {
        "id": "u3PMJOP6ngxN"
      }
    },
    {
      "cell_type": "code",
      "source": [
        "# Check Unique Values for each variable of dataset.\n",
        "df.nunique()"
      ],
      "metadata": {
        "id": "zms12Yq5n-jE"
      },
      "execution_count": null,
      "outputs": []
    },
    {
      "cell_type": "markdown",
      "source": [
        "## ***3. Data Wrangling***"
      ],
      "metadata": {
        "id": "dauF4eBmngu3"
      }
    },
    {
      "cell_type": "markdown",
      "source": [
        "### Data Wrangling Code"
      ],
      "metadata": {
        "id": "bKJF3rekwFvQ"
      }
    },
    {
      "cell_type": "code",
      "source": [
        "# 1. Standardize column names\n",
        "df.columns = df.columns.str.strip().str.replace(' ', '_').str.replace('__', '_')"
      ],
      "metadata": {
        "id": "NsZgdp3SKH88"
      },
      "execution_count": null,
      "outputs": []
    },
    {
      "cell_type": "code",
      "source": [
        "# 2. Convert 'Date' column to datetime objects\n",
        "df['Date'] = pd.to_datetime(df['Date'], errors='coerce')"
      ],
      "metadata": {
        "id": "cPPBUmUfwIDn"
      },
      "execution_count": null,
      "outputs": []
    },
    {
      "cell_type": "code",
      "source": [
        "# 3. Drop 'Vehicle_Images' column as it's not relevant for analysis\n",
        "if 'Vehicle_Images' in df.columns:\n",
        "        df = df.drop(columns=['Vehicle_Images'])"
      ],
      "metadata": {
        "id": "TKG7F7lbwQo9"
      },
      "execution_count": null,
      "outputs": []
    },
    {
      "cell_type": "code",
      "source": [
        "# 4. Handling Missing Values\n",
        "try:\n",
        "\n",
        "    # --- Imputation for Numerical Columns ---\n",
        "    numerical_cols = ['C_TAT','V_TAT','Driver_Ratings', 'Customer_Rating']\n",
        "    for col in numerical_cols:\n",
        "        # Convert to numeric, coercing errors\n",
        "        df[col] = pd.to_numeric(df[col], errors='coerce')\n",
        "        # Fill missing values with 0 and assign the result back\n",
        "        df[col] = df[col].fillna(0)\n",
        "\n",
        "    # --- Imputation for Categorical Columns ---\n",
        "    # Impute 'Payment_Method' with the mode\n",
        "    mode_payment = df['Payment_Method'].mode()[0]\n",
        "    df['Payment_Method'] = df['Payment_Method'].fillna(mode_payment)\n",
        "\n",
        "    # Impute other categorical columns with 'Unknown'\n",
        "    categorical_cols_unknown = ['Canceled_Rides_by_Customer', 'Canceled_Rides_by_Driver',\n",
        "                                'Incomplete_Rides', 'Incomplete_Rides_Reason']\n",
        "    for col in categorical_cols_unknown:\n",
        "        df[col] = df[col].fillna('N/A')\n",
        "\n",
        "    # Verify that missing values have been handled\n",
        "    print(\"Missing values after imputation:\")\n",
        "    print(df[['C_TAT', 'V_TAT', 'Driver_Ratings', 'Customer_Rating',\n",
        "              'Payment_Method', 'Canceled_Rides_by_Customer',\n",
        "              'Canceled_Rides_by_Driver', 'Incomplete_Rides',\n",
        "              'Incomplete_Rides_Reason']].isnull().sum())\n",
        "\n",
        "    print(\"\\nSuccessfully handled all missing values without warnings.\")\n",
        "\n",
        "except FileNotFoundError:\n",
        "    print(f\"Error: The file '{'/content/OLA_DataSet.xlsx - July.csv'}' was not found. Please ensure the file is in the correct directory.\")\n",
        "except Exception as e:\n",
        "    print(f\"An unexpected error occurred: {e}\")"
      ],
      "metadata": {
        "id": "AEL_ZFOSwxK2"
      },
      "execution_count": null,
      "outputs": []
    },
    {
      "cell_type": "code",
      "source": [
        "# Save cleaned dataset\n",
        "df.to_csv(\"Ola_clean_dataset.csv\", index=False)"
      ],
      "metadata": {
        "id": "MG_KP5jOuvim"
      },
      "execution_count": null,
      "outputs": []
    },
    {
      "cell_type": "markdown",
      "source": [
        "### What all manipulations have you done and insights you found?"
      ],
      "metadata": {
        "id": "MSa1f5Uengrz"
      }
    },
    {
      "cell_type": "markdown",
      "source": [
        "#### **Key Manipulations:**\n",
        "\n",
        "* Standardized column names (removed spaces & duplicates).\n",
        "* Converted `Date` column to datetime (invalid → NaT).\n",
        "* Dropped irrelevant column `Vehicle_Images`.\n",
        "* Converted numerical cols (`C_TAT`, `V_TAT`, `Driver_Ratings`, `Customer_Rating`) to numeric & filled missing with `0`.\n",
        "* Filled missing `Payment_Method` with mode.\n",
        "* Filled other categorical cols (`Canceled_Rides_by_Customer`, `Canceled_Rides_by_Driver`, `Incomplete_Rides`, `Incomplete_Rides_Reason`) with `'N/A'`.\n",
        "* Saved cleaned dataset as **`Ola_clean_dataset.csv`**.\n",
        "\n",
        "---\n",
        "\n",
        "#### **Insights Gained:**\n",
        "\n",
        "* Clean column names prevent referencing errors.\n",
        "* Datetime conversion enables trend/time analysis.\n",
        "* Removing irrelevant data reduces noise.\n",
        "* Imputation ensures dataset completeness for analysis.\n",
        "* Mode imputation reflects realistic payment trends.\n",
        "* `'N/A'` marks missing categories clearly without losing data.\n",
        "* Dataset is ready for EDA, ML, or reporting."
      ],
      "metadata": {
        "id": "xtr1jvwazHVE"
      }
    }
  ]
}